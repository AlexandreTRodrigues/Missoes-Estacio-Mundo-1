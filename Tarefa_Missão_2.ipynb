{
  "nbformat": 4,
  "nbformat_minor": 0,
  "metadata": {
    "colab": {
      "provenance": [],
      "collapsed_sections": [],
      "authorship_tag": "ABX9TyMqOKttJP9C61o8TD1kCqtj",
      "include_colab_link": true
    },
    "kernelspec": {
      "name": "python3",
      "display_name": "Python 3"
    },
    "language_info": {
      "name": "python"
    }
  },
  "cells": [
    {
      "cell_type": "markdown",
      "metadata": {
        "id": "view-in-github",
        "colab_type": "text"
      },
      "source": [
        "<a href=\"https://colab.research.google.com/github/AlexandreTRodrigues/Missoes-Estacio-Mundo-1/blob/main/Tarefa_Miss%C3%A3o_2.ipynb\" target=\"_parent\"><img src=\"https://colab.research.google.com/assets/colab-badge.svg\" alt=\"Open In Colab\"/></a>"
      ]
    },
    {
      "cell_type": "code",
      "execution_count": null,
      "metadata": {
        "id": "f6UXNbX9nnej",
        "colab": {
          "base_uri": "https://localhost:8080/"
        },
        "outputId": "6671f950-905e-4bb7-cc33-349433214e6a"
      },
      "outputs": [
        {
          "output_type": "stream",
          "name": "stdout",
          "text": [
            "Número na base decimal: 23\n",
            "Conversão para base binária: 10111\n"
          ]
        }
      ],
      "source": [
        "numero_base_decimal = 23\n",
        "numero_base_binaria = \"{0:b}\".format(numero_base_decimal)\n",
        "print(f\"Número na base decimal: {numero_base_decimal}\")\n",
        "print(f\"Conversão para base binária: {numero_base_binaria}\")"
      ]
    },
    {
      "cell_type": "code",
      "source": [
        "numero_decimal = int(input(\"Digíte um número inteiro para converter em binário: \"))\n",
        "binario = []\n",
        "divisores= 0\n",
        "\n",
        "while divisores==0:\n",
        "  resto = numero_decimal%2\n",
        "  binario.append(resto)\n",
        "  numero_decimal = numero_decimal//2\n",
        "\n",
        "  if numero_decimal<1:\n",
        "    divisores += 1\n",
        "\n",
        "print(\"O resultado da conversão para binário é: \", end=\"\".join(map(str,binario[::-1])))"
      ],
      "metadata": {
        "colab": {
          "base_uri": "https://localhost:8080/"
        },
        "id": "sVnayvillSh3",
        "outputId": "3e80470f-c974-4e79-d4cb-8078995b65f5"
      },
      "execution_count": 81,
      "outputs": [
        {
          "output_type": "stream",
          "name": "stdout",
          "text": [
            "Digíte um número inteiro para converter em binário: 23\n",
            "O resultado da conversão para binário é: 10111"
          ]
        }
      ]
    }
  ]
}